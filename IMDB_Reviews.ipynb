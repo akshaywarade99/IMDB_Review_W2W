{
 "cells": [
  {
   "cell_type": "code",
   "execution_count": 1,
   "id": "749d3995",
   "metadata": {},
   "outputs": [],
   "source": [
    "import pandas as pd\n",
    "import numpy as np"
   ]
  },
  {
   "cell_type": "code",
   "execution_count": 2,
   "id": "5b9b8f3a",
   "metadata": {},
   "outputs": [
    {
     "data": {
      "text/html": [
       "<div>\n",
       "<style scoped>\n",
       "    .dataframe tbody tr th:only-of-type {\n",
       "        vertical-align: middle;\n",
       "    }\n",
       "\n",
       "    .dataframe tbody tr th {\n",
       "        vertical-align: top;\n",
       "    }\n",
       "\n",
       "    .dataframe thead th {\n",
       "        text-align: right;\n",
       "    }\n",
       "</style>\n",
       "<table border=\"1\" class=\"dataframe\">\n",
       "  <thead>\n",
       "    <tr style=\"text-align: right;\">\n",
       "      <th></th>\n",
       "      <th>review</th>\n",
       "      <th>sentiment</th>\n",
       "    </tr>\n",
       "  </thead>\n",
       "  <tbody>\n",
       "    <tr>\n",
       "      <th>0</th>\n",
       "      <td>One of the other reviewers has mentioned that ...</td>\n",
       "      <td>positive</td>\n",
       "    </tr>\n",
       "    <tr>\n",
       "      <th>1</th>\n",
       "      <td>A wonderful little production. &lt;br /&gt;&lt;br /&gt;The...</td>\n",
       "      <td>positive</td>\n",
       "    </tr>\n",
       "    <tr>\n",
       "      <th>2</th>\n",
       "      <td>I thought this was a wonderful way to spend ti...</td>\n",
       "      <td>positive</td>\n",
       "    </tr>\n",
       "    <tr>\n",
       "      <th>3</th>\n",
       "      <td>Basically there's a family where a little boy ...</td>\n",
       "      <td>negative</td>\n",
       "    </tr>\n",
       "    <tr>\n",
       "      <th>4</th>\n",
       "      <td>Petter Mattei's \"Love in the Time of Money\" is...</td>\n",
       "      <td>positive</td>\n",
       "    </tr>\n",
       "  </tbody>\n",
       "</table>\n",
       "</div>"
      ],
      "text/plain": [
       "                                              review sentiment\n",
       "0  One of the other reviewers has mentioned that ...  positive\n",
       "1  A wonderful little production. <br /><br />The...  positive\n",
       "2  I thought this was a wonderful way to spend ti...  positive\n",
       "3  Basically there's a family where a little boy ...  negative\n",
       "4  Petter Mattei's \"Love in the Time of Money\" is...  positive"
      ]
     },
     "execution_count": 2,
     "metadata": {},
     "output_type": "execute_result"
    }
   ],
   "source": [
    "df= pd.read_csv('../../../DataSets/IMDB Dataset.csv')\n",
    "df.head()"
   ]
  },
  {
   "cell_type": "code",
   "execution_count": 3,
   "id": "bb343def",
   "metadata": {},
   "outputs": [
    {
     "data": {
      "text/plain": [
       "1761"
      ]
     },
     "execution_count": 3,
     "metadata": {},
     "output_type": "execute_result"
    }
   ],
   "source": [
    "len(df['review'][0])"
   ]
  },
  {
   "cell_type": "code",
   "execution_count": 4,
   "id": "a3cd1bb6",
   "metadata": {},
   "outputs": [
    {
     "data": {
      "text/plain": [
       "positive    25000\n",
       "negative    25000\n",
       "Name: sentiment, dtype: int64"
      ]
     },
     "execution_count": 4,
     "metadata": {},
     "output_type": "execute_result"
    }
   ],
   "source": [
    "df['sentiment'].value_counts()"
   ]
  },
  {
   "cell_type": "code",
   "execution_count": 5,
   "id": "f1900a25",
   "metadata": {},
   "outputs": [],
   "source": [
    "from sklearn.model_selection import train_test_split"
   ]
  },
  {
   "cell_type": "code",
   "execution_count": 6,
   "id": "acc7131a",
   "metadata": {},
   "outputs": [],
   "source": [
    "X_train,X_test,y_train,y_test= train_test_split(df['review'],df['sentiment'],test_size=0.2,random_state=99)"
   ]
  },
  {
   "cell_type": "code",
   "execution_count": 7,
   "id": "2a722a51",
   "metadata": {},
   "outputs": [
    {
     "data": {
      "text/plain": [
       "(40000,)"
      ]
     },
     "execution_count": 7,
     "metadata": {},
     "output_type": "execute_result"
    }
   ],
   "source": [
    "X_train.shape"
   ]
  },
  {
   "cell_type": "code",
   "execution_count": 8,
   "id": "ed2170a9",
   "metadata": {},
   "outputs": [
    {
     "data": {
      "text/plain": [
       "4057     I had a heck of a good time viewing this pictu...\n",
       "20382    My wife and I both thought this film a watered...\n",
       "4386     Stay Alive has a very similar story to some As...\n",
       "42507    I personally liked this movie and am alarmed a...\n",
       "11197    Words cannot express how poor this film is.<br...\n",
       "                               ...                        \n",
       "42697    Those who love the book Jane Eyre as I do (it'...\n",
       "36008    a mesmerizing film that certainly keeps your a...\n",
       "46265    Hey guys I'm actually in this movie! I didn't ...\n",
       "23587    it was a very well written movie, and the acto...\n",
       "29313    I mean really, really, REALLY high and this mo...\n",
       "Name: review, Length: 40000, dtype: object"
      ]
     },
     "execution_count": 8,
     "metadata": {},
     "output_type": "execute_result"
    }
   ],
   "source": [
    "X_train"
   ]
  },
  {
   "cell_type": "code",
   "execution_count": 9,
   "id": "53e3d25d",
   "metadata": {},
   "outputs": [
    {
     "data": {
      "text/plain": [
       "\"I had a heck of a good time viewing this picture, and was splendidly surprised at its more erudite features. First off, the film is undeniably cheaply-made with its cardboard sets, limited settings, and creative scientific props. The acting ranges from very poor(the two strippers), barely professional(Herb Evers as the leading man), gothic overstatement(Leslie Daniels as the assistant Kurt)to first-rate with Virginia Leith in the title role as the headless victim alive against her will for the benefit of science and her fiancee's lustful passions. The scripting though is very good and the dialogue is fantastic for a movie of this ilk. Issues abound about what role science and medicine have in our lives and what their boundaries should be. This film is a thinking film in many ways. However, don't be too fooled by its real intent. It is a sleazy story about a man obsessed with his aptitude in medical science who wishes to fuse together his dead girlfriend's head with the perfect body, thereby creating the perfect woman for a man with the best of both body and soul. One other very bright aspect of the film is the sax music which resonates strongly every time the doctor scours town for female beauties.\""
      ]
     },
     "execution_count": 9,
     "metadata": {},
     "output_type": "execute_result"
    }
   ],
   "source": [
    "X_train.iloc[0]"
   ]
  },
  {
   "cell_type": "markdown",
   "id": "7ebc0f77",
   "metadata": {},
   "source": [
    "# Preprocessing "
   ]
  },
  {
   "cell_type": "code",
   "execution_count": 10,
   "id": "945a74c4",
   "metadata": {},
   "outputs": [],
   "source": [
    "import re\n",
    "\n",
    "CLEANR = re.compile('<.*?>') \n",
    "def strip_html(data):\n",
    "    cleantext = re.sub(CLEANR, '', data)\n",
    "    return cleantext"
   ]
  },
  {
   "cell_type": "code",
   "execution_count": 11,
   "id": "c15fc94b",
   "metadata": {},
   "outputs": [
    {
     "data": {
      "text/plain": [
       "'My wife and I both thought this film a watered-down, made-for-TV (BBC) version of Manhattan Murder Mystery...which is itself good, but not great. The story has little inter- character tension or chemistry, and not much of a plot. Woody Allen\\'s character just sort of wanders around running off at the mouth, and Hugh Jackman and Scarlett Johannsson don\\'t have a lot more to do. It\\'s pretty disappointing, I must say. Ian McShane\\'s role is just an expanded cameo appearance. The first thing that occurred to me was \"I wonder how much the BBC had to pay Woody Allen to dislodge him from Manhatttan?\" He must\\'ve needed the money, and they must have needed his appeal to expand their audience beyond the youth market drawn to the two stars. I\\'m giving this movie 4 stars instead of 3 because it is unbothersome background noise. If you ever want something to have on while you\\'re knitting or sorting your stamp collection, this\\'ll do the job. I wouldn\\'t pay to rent it again.'"
      ]
     },
     "execution_count": 11,
     "metadata": {},
     "output_type": "execute_result"
    }
   ],
   "source": [
    "strip_html(X_train.iloc[1])"
   ]
  },
  {
   "cell_type": "code",
   "execution_count": 12,
   "id": "35956e2d",
   "metadata": {},
   "outputs": [],
   "source": [
    "X_train= X_train.apply(strip_html)"
   ]
  },
  {
   "cell_type": "markdown",
   "id": "cf152023",
   "metadata": {},
   "source": [
    "# Tokanization"
   ]
  },
  {
   "cell_type": "code",
   "execution_count": 13,
   "id": "47ac6ce2",
   "metadata": {},
   "outputs": [],
   "source": [
    "from tensorflow.keras.preprocessing.text import Tokenizer"
   ]
  },
  {
   "cell_type": "code",
   "execution_count": 14,
   "id": "e407049e",
   "metadata": {},
   "outputs": [],
   "source": [
    "tokenizer= Tokenizer(num_words=20000)\n",
    "tokenizer.fit_on_texts(X_train)\n",
    "X_train_seq= tokenizer.texts_to_sequences(X_train)\n"
   ]
  },
  {
   "cell_type": "code",
   "execution_count": 15,
   "id": "f59f3a1e",
   "metadata": {},
   "outputs": [
    {
     "data": {
      "text/plain": [
       "114002"
      ]
     },
     "execution_count": 15,
     "metadata": {},
     "output_type": "execute_result"
    }
   ],
   "source": [
    "len(tokenizer.index_word)"
   ]
  },
  {
   "cell_type": "code",
   "execution_count": 16,
   "id": "a807bdfd",
   "metadata": {},
   "outputs": [
    {
     "data": {
      "text/plain": [
       "'political'"
      ]
     },
     "execution_count": 16,
     "metadata": {},
     "output_type": "execute_result"
    }
   ],
   "source": [
    "tokenizer.index_word[999]"
   ]
  },
  {
   "cell_type": "code",
   "execution_count": 17,
   "id": "ca39a3e6",
   "metadata": {},
   "outputs": [
    {
     "data": {
      "text/plain": [
       "(205, 166, 139)"
      ]
     },
     "execution_count": 17,
     "metadata": {},
     "output_type": "execute_result"
    }
   ],
   "source": [
    "len(X_train_seq[0]), len(X_train_seq[1]), len(X_train_seq[2])"
   ]
  },
  {
   "cell_type": "code",
   "execution_count": 18,
   "id": "37c3fcb3",
   "metadata": {},
   "outputs": [],
   "source": [
    "from tensorflow.keras.preprocessing.sequence import pad_sequences"
   ]
  },
  {
   "cell_type": "code",
   "execution_count": 19,
   "id": "b619ddf0",
   "metadata": {},
   "outputs": [],
   "source": [
    "X_train_seq_pad= pad_sequences(X_train_seq,maxlen=150)"
   ]
  },
  {
   "cell_type": "code",
   "execution_count": 20,
   "id": "8dd4672c",
   "metadata": {},
   "outputs": [
    {
     "data": {
      "text/plain": [
       "(150, 150, 150)"
      ]
     },
     "execution_count": 20,
     "metadata": {},
     "output_type": "execute_result"
    }
   ],
   "source": [
    "len(X_train_seq_pad[0]), len(X_train_seq_pad[1]), len(X_train_seq_pad[2])"
   ]
  },
  {
   "cell_type": "code",
   "execution_count": 21,
   "id": "c5aac3bc",
   "metadata": {},
   "outputs": [],
   "source": [
    "# Padding Done - Each Review is of len 150 now"
   ]
  },
  {
   "cell_type": "code",
   "execution_count": 22,
   "id": "bcb08905",
   "metadata": {},
   "outputs": [
    {
     "data": {
      "text/plain": [
       "array([    0,     0,     0,     0,     0,     0,     0,     0,     0,\n",
       "           0,     0,   794,  1144,    44,     3,    51,   737,    64,\n",
       "           5,    45,  2044,   178,   103,    59,  1504,  2309,    19,\n",
       "           1,    64,    45,     4,    10,  2044,   178,   103,    22,\n",
       "          26,  1064,   656, 11725,     2,  7951,    33,     1,   321,\n",
       "           4,   794,  1144,     6,    51,  2477,     2,   570,    17,\n",
       "           1,  1063,   508,     8,   115,    20,   117,    85,     5,\n",
       "         273,   136,   168,    37,   218,     5,     1,  1724,     7,\n",
       "         794,  1144,    10,    18,     6,   458,   599,    17,     3,\n",
       "          51,   187,   599,    29,     1,   796,     4,   794,  1144,\n",
       "        4031,     5,     1,   244,   702,     4,   103,  2094,   101,\n",
       "         160,     4,   735,   352,    59,   161,   425,     2,   644,\n",
       "         582,    43,   749,     5,   871,    11,     1,     6,  6703,\n",
       "           5,  1027,   136,   212,    37,  1213,     9,    77,    20,\n",
       "        2922,  1781,    49,    54,   488,    40,    10,  1154,    18,\n",
       "           9,    38,   196,    21,    31,  1891,    77,    20,    62,\n",
       "          10,    18,     9,    60,  1771,     8])"
      ]
     },
     "execution_count": 22,
     "metadata": {},
     "output_type": "execute_result"
    }
   ],
   "source": [
    "X_train_seq_pad[2]"
   ]
  },
  {
   "cell_type": "code",
   "execution_count": 23,
   "id": "d489778c",
   "metadata": {},
   "outputs": [
    {
     "data": {
      "text/plain": [
       "4057     positive\n",
       "20382    negative\n",
       "4386     negative\n",
       "42507    positive\n",
       "11197    negative\n",
       "           ...   \n",
       "42697    positive\n",
       "36008    positive\n",
       "46265    positive\n",
       "23587    positive\n",
       "29313    negative\n",
       "Name: sentiment, Length: 40000, dtype: object"
      ]
     },
     "execution_count": 23,
     "metadata": {},
     "output_type": "execute_result"
    }
   ],
   "source": [
    "y_train # As y_train is string .. need to convert it into num"
   ]
  },
  {
   "cell_type": "code",
   "execution_count": 24,
   "id": "8df01f0b",
   "metadata": {},
   "outputs": [],
   "source": [
    "y_train= y_train.apply(lambda X:1 if X=='positive' else 0)"
   ]
  },
  {
   "cell_type": "code",
   "execution_count": 25,
   "id": "0d5d024a",
   "metadata": {},
   "outputs": [
    {
     "data": {
      "text/plain": [
       "4057     1\n",
       "20382    0\n",
       "4386     0\n",
       "42507    1\n",
       "11197    0\n",
       "        ..\n",
       "42697    1\n",
       "36008    1\n",
       "46265    1\n",
       "23587    1\n",
       "29313    0\n",
       "Name: sentiment, Length: 40000, dtype: int64"
      ]
     },
     "execution_count": 25,
     "metadata": {},
     "output_type": "execute_result"
    }
   ],
   "source": [
    "y_train"
   ]
  },
  {
   "cell_type": "code",
   "execution_count": 26,
   "id": "2626c40d",
   "metadata": {},
   "outputs": [],
   "source": [
    "#from keras.utils import to_categorical"
   ]
  },
  {
   "cell_type": "code",
   "execution_count": 27,
   "id": "70ee2f1d",
   "metadata": {},
   "outputs": [],
   "source": [
    "#y_train = to_categorical(y_train)"
   ]
  },
  {
   "cell_type": "markdown",
   "id": "2b1d3438",
   "metadata": {},
   "source": [
    "# Model Building -LSTM"
   ]
  },
  {
   "cell_type": "code",
   "execution_count": 28,
   "id": "b151aa0f",
   "metadata": {},
   "outputs": [],
   "source": [
    "from tensorflow.keras.layers import Dense, Embedding, LSTM\n",
    "from tensorflow.keras.models import Sequential"
   ]
  },
  {
   "cell_type": "code",
   "execution_count": 36,
   "id": "fa84c288",
   "metadata": {},
   "outputs": [],
   "source": [
    "model_1= Sequential()\n",
    "model_1.add(LSTM(99, return_sequences=True))\n",
    "model_1.add(LSTM(99, return_sequences=True))\n",
    "model_1.add(LSTM(99, return_sequences=False))\n",
    "\n",
    "model_1.add(Dense(1, activation='sigmoid'))\n",
    "\n",
    "model_1.compile(loss='binary_crossentropy', metrics=['accuracy'])"
   ]
  },
  {
   "cell_type": "code",
   "execution_count": 37,
   "id": "5d6d9432",
   "metadata": {},
   "outputs": [],
   "source": [
    "# Train The Moddle On Google Colab"
   ]
  },
  {
   "cell_type": "code",
   "execution_count": 29,
   "id": "e5242268",
   "metadata": {},
   "outputs": [],
   "source": [
    "from tensorflow.keras.models import load_model"
   ]
  },
  {
   "cell_type": "code",
   "execution_count": 30,
   "id": "1815291a",
   "metadata": {},
   "outputs": [],
   "source": [
    "model_imdb= load_model('IMDB_Midel_1.h5')"
   ]
  },
  {
   "cell_type": "code",
   "execution_count": 31,
   "id": "400174f1",
   "metadata": {},
   "outputs": [],
   "source": [
    "# Preprocessing of Test data"
   ]
  },
  {
   "cell_type": "code",
   "execution_count": 32,
   "id": "345c9c01",
   "metadata": {},
   "outputs": [],
   "source": [
    "# Remove HTML tags\n",
    "X_test= X_test.apply(strip_html)"
   ]
  },
  {
   "cell_type": "code",
   "execution_count": 33,
   "id": "96331bb3",
   "metadata": {},
   "outputs": [],
   "source": [
    "# Tokanization\n",
    "X_test_seq= tokenizer.texts_to_sequences(X_test)\n"
   ]
  },
  {
   "cell_type": "code",
   "execution_count": 34,
   "id": "4c0c2867",
   "metadata": {},
   "outputs": [],
   "source": [
    "# Padding\n",
    "X_test_seq_pad= pad_sequences(X_test_seq,maxlen=150)"
   ]
  },
  {
   "cell_type": "code",
   "execution_count": 38,
   "id": "ee55522b",
   "metadata": {},
   "outputs": [],
   "source": [
    "y_test= y_test.apply(lambda X:1 if X=='positive' else 0)"
   ]
  },
  {
   "cell_type": "code",
   "execution_count": 39,
   "id": "22b74aa9",
   "metadata": {},
   "outputs": [
    {
     "data": {
      "text/plain": [
       "8800     1\n",
       "24061    0\n",
       "1144     1\n",
       "2703     0\n",
       "5542     0\n",
       "        ..\n",
       "47944    0\n",
       "5874     1\n",
       "40426    0\n",
       "41564    0\n",
       "46091    0\n",
       "Name: sentiment, Length: 10000, dtype: int64"
      ]
     },
     "execution_count": 39,
     "metadata": {},
     "output_type": "execute_result"
    }
   ],
   "source": [
    "y_test"
   ]
  },
  {
   "cell_type": "code",
   "execution_count": 41,
   "id": "64375a0d",
   "metadata": {},
   "outputs": [
    {
     "name": "stdout",
     "output_type": "stream",
     "text": [
      "313/313 [==============================] - 75s 239ms/step - loss: 0.6667 - accuracy: 0.8614\n"
     ]
    },
    {
     "data": {
      "text/plain": [
       "[0.666710376739502, 0.8614000082015991]"
      ]
     },
     "execution_count": 41,
     "metadata": {},
     "output_type": "execute_result"
    }
   ],
   "source": [
    "model_imdb.evaluate(X_test_seq_pad,y_test,batch_size=32)"
   ]
  },
  {
   "cell_type": "code",
   "execution_count": null,
   "id": "55ccd485",
   "metadata": {},
   "outputs": [],
   "source": []
  }
 ],
 "metadata": {
  "kernelspec": {
   "display_name": "Python [conda env:tf_env]",
   "language": "python",
   "name": "conda-env-tf_env-py"
  },
  "language_info": {
   "codemirror_mode": {
    "name": "ipython",
    "version": 3
   },
   "file_extension": ".py",
   "mimetype": "text/x-python",
   "name": "python",
   "nbconvert_exporter": "python",
   "pygments_lexer": "ipython3",
   "version": "3.8.13"
  }
 },
 "nbformat": 4,
 "nbformat_minor": 5
}
